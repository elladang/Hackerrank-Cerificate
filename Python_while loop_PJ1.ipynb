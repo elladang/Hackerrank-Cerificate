{
 "cells": [
  {
   "cell_type": "code",
   "execution_count": 1,
   "metadata": {},
   "outputs": [],
   "source": [
    "import random"
   ]
  },
  {
   "cell_type": "markdown",
   "metadata": {},
   "source": [
    "### Trong project này, chúng ta sẽ làm 1 trò chơi nhỏ mang tên đoán số. Cụ thể, Máy tính sẽ chọn random 1 số từ 1 đến 10 (không in ra màn hình).\n",
    "### Chúng ta sẽ đoán máy tính chọn số bao nhiêu?\n",
    "#### - Nếu số chúng ta đoán thấp hơn máy tính thì in ra \"Your guessing number is too low\"\n",
    "#### - Nếu số chúng ta đoán cao hơn máy tính thì in ra \"Your guessing number is too high\"\n",
    "#### - Nếu chúng ta đoán đúng số thì in ra \"You got the correct number after\" xx \"tries\" trong đó xx là số lần đoán. (xx <= 5)\n",
    "#### - Trường hợp 5 lần đoán sai thì sẽ dừng trò chơi và in ra \"Gameover!!! The correct number is yy\" trong đó yy là số mà máy tính chọn\n",
    "\n",
    "#### Những kiến thức cover trong project này: input(), print(), while loop, if - elif - else, break."
   ]
  },
  {
   "cell_type": "code",
   "execution_count": 2,
   "metadata": {},
   "outputs": [],
   "source": [
    "# generate random number\n",
    "# guess_limit = 5\n",
    "\n",
    "# input player's name\n",
    "\n",
    "# Say hi and welcome player to the guessing game\n",
    "\n"
   ]
  },
  {
   "cell_type": "code",
   "execution_count": 3,
   "metadata": {},
   "outputs": [],
   "source": [
    "# develop while loop\n",
    "# guess = input the number you guess\n",
    "\n",
    "# stop the game when you find out the correct number after xx times (xx <= 5) OR the guessing number in your 5th attempt is still wrong\n",
    "\n"
   ]
  },
  {
   "cell_type": "code",
   "execution_count": 5,
   "metadata": {},
   "outputs": [
    {
     "name": "stdout",
     "output_type": "stream",
     "text": [
      "generate random number\n",
      "guess_limit = 5\n",
      "player's name = ?\n",
      "trang\n",
      "Hi! Welcome trang to the guessing game\n",
      "Your number?\n",
      "5\n",
      "Your guessing number is too low\n",
      "Your number?\n",
      "5\n",
      "Your guessing number is too low\n",
      "Your number?\n",
      "5\n",
      "Your guessing number is too low\n",
      "Your number?\n",
      "5\n",
      "Your guessing number is too low\n",
      "Your number?\n",
      "5\n",
      "Your guessing number is too low\n",
      "Gameover!!! The correct number is 8\n"
     ]
    }
   ],
   "source": [
    "print (\"generate random number\")\n",
    "print (\"guess_limit = 5\")\n",
    "print (\"player's name = ?\")\n",
    "x = input ()\n",
    "print (\"Hi! Welcome \" + x + \" to the guessing game\" )\n",
    "import random \n",
    "number = random.randint(1,10 )\n",
    "times = 1 \n",
    "while times <= 5:\n",
    "    print (\"Your number?\")\n",
    "    y = int(input())\n",
    "    times = times + 1 \n",
    "    if y < number : \n",
    "        print (\"Your guessing number is too low\")\n",
    "    elif y > number : \n",
    "        print (\"Your guessing number is too high\")\n",
    "    elif y == number :\n",
    "        print (\"You got the correct number after \" + str(times)+ \" tries\")\n",
    "        break \n",
    "while times > 5: \n",
    "    print (\"Gameover!!! The correct number is \" + str(number))\n",
    "    break \n",
    "    \n"
   ]
  },
  {
   "cell_type": "code",
   "execution_count": null,
   "metadata": {},
   "outputs": [],
   "source": []
  },
  {
   "cell_type": "code",
   "execution_count": null,
   "metadata": {},
   "outputs": [],
   "source": []
  },
  {
   "cell_type": "code",
   "execution_count": null,
   "metadata": {},
   "outputs": [],
   "source": []
  },
  {
   "cell_type": "code",
   "execution_count": null,
   "metadata": {},
   "outputs": [],
   "source": []
  }
 ],
 "metadata": {
  "kernelspec": {
   "display_name": "Python 3 (ipykernel)",
   "language": "python",
   "name": "python3"
  },
  "language_info": {
   "codemirror_mode": {
    "name": "ipython",
    "version": 3
   },
   "file_extension": ".py",
   "mimetype": "text/x-python",
   "name": "python",
   "nbconvert_exporter": "python",
   "pygments_lexer": "ipython3",
   "version": "3.9.12"
  }
 },
 "nbformat": 4,
 "nbformat_minor": 2
}
