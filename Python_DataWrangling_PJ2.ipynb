{
 "cells": [
  {
   "cell_type": "markdown",
   "metadata": {},
   "source": [
    "### Bài này em làm tốt rồi nhé, great job :))"
   ]
  },
  {
   "cell_type": "code",
   "execution_count": 1,
   "metadata": {},
   "outputs": [],
   "source": [
    "import random"
   ]
  },
  {
   "cell_type": "markdown",
   "metadata": {},
   "source": [
    "#### Trong project này chúng ta sẽ mô phỏng lại trò chơi dân gian oẳn tù tì.\n",
    "#### Cụ thể, chúng ta sẽ oẳn tù tì với máy. Máy sẽ chọn random búa, kéo, hoặc lá trong mỗi lần oẳn tù tì.\n",
    "#### Chúng ta sẽ chọn ra búa, kéo hoặc lá sau đó in ra kết quả. Trường hợp người chơi nhập sai, yêu cầu người chơi nhập lại theo đúng chính tả theo 3 sự lựa chọn búa, kéo, hoặc lá.\n",
    "#### Lưu ý, sau mỗi lượt chơi, máy sẽ random chọn lại búa kéo hoặc lá.\n",
    "\n",
    "#### Các kiến thức cover trong mini project này: Array, random, while loop, if - elif - else."
   ]
  },
  {
   "cell_type": "code",
   "execution_count": 2,
   "metadata": {},
   "outputs": [],
   "source": [
    "# tạo array búa, kéo, lá\n",
    "\n",
    "\n",
    "# máy chọn random\n",
    "\n",
    "\n",
    "# tạo vòng lặp while để chạy chương trình\n"
   ]
  },
  {
   "cell_type": "code",
   "execution_count": 4,
   "metadata": {},
   "outputs": [
    {
     "name": "stdout",
     "output_type": "stream",
     "text": [
      "Chọn [Kéo, Búa, Lá]:\n",
      "Kéo\n",
      "Hòa!\n"
     ]
    }
   ],
   "source": [
    "\n",
    "import random \n",
    "y= random. choice([\"Kéo\", \"Búa\", \"Lá\"])\n",
    "x = \"người\" \n",
    "while x == \"người\" : \n",
    "    print (\"Chọn [Kéo, Búa, Lá]:\")  \n",
    "    x = input ()\n",
    "    if x == y:\n",
    "        print (\"Hòa!\")\n",
    "    elif x ==\"Búa\":\n",
    "        if y == \"Lá\": \n",
    "            print (\"Bạn thua:<\")\n",
    "        else:\n",
    "            print (\"Bạn thắng!!!\")\n",
    "    elif x == \"Kéo\":\n",
    "        if y == \"Búa\":\n",
    "            print (\"Bạn thua:<\")\n",
    "        else:\n",
    "            print (\"Bạn thắng!!!\")\n",
    "    elif x == \"Lá\":\n",
    "        if y == \"Búa\":\n",
    "            print (\"Bạn thắng!!!\")\n",
    "        else:\n",
    "            print (\"Bạn thua:<\")\n",
    "        Break      \n",
    "            \n",
    "    else: \n",
    "        print (\"Bạn nhập sai, yêu cầu nhập đúng chính tả\")\n",
    "\n",
    "        \n",
    "\n",
    "    \n",
    "    \n"
   ]
  },
  {
   "cell_type": "code",
   "execution_count": null,
   "metadata": {},
   "outputs": [],
   "source": []
  },
  {
   "cell_type": "code",
   "execution_count": null,
   "metadata": {},
   "outputs": [],
   "source": []
  },
  {
   "cell_type": "code",
   "execution_count": null,
   "metadata": {},
   "outputs": [],
   "source": []
  },
  {
   "cell_type": "code",
   "execution_count": null,
   "metadata": {},
   "outputs": [],
   "source": []
  },
  {
   "cell_type": "code",
   "execution_count": null,
   "metadata": {},
   "outputs": [],
   "source": []
  }
 ],
 "metadata": {
  "kernelspec": {
   "display_name": "Python 3 (ipykernel)",
   "language": "python",
   "name": "python3"
  },
  "language_info": {
   "codemirror_mode": {
    "name": "ipython",
    "version": 3
   },
   "file_extension": ".py",
   "mimetype": "text/x-python",
   "name": "python",
   "nbconvert_exporter": "python",
   "pygments_lexer": "ipython3",
   "version": "3.9.12"
  }
 },
 "nbformat": 4,
 "nbformat_minor": 2
}
